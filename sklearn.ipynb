{
 "cells": [
  {
   "cell_type": "code",
   "execution_count": 18,
   "id": "4764d8ad",
   "metadata": {},
   "outputs": [
    {
     "name": "stdout",
     "output_type": "stream",
     "text": [
      "means for the three clusters are:\n",
      "[[10.68939536  9.85623874 10.38261651]\n",
      " [19.82566512 20.14187353 20.18852273]\n",
      " [30.85866444 29.82747351 30.36625507]]\n",
      "Using the clustering model to predict clusters now.\n"
     ]
    }
   ],
   "source": [
    "from sklearn.cluster import KMeans\n",
    "import pandas as pd\n",
    "\n",
    "clust1 = []\n",
    "clust2 = []\n",
    "clust3 = []\n",
    "\n",
    "df = pd.read_csv(\"exercise8_infile1.csv\")\n",
    "kmeans = KMeans(n_clusters=3, random_state=0).fit(df.values)  # df is the DataFrame holding the data\n",
    "\n",
    "print('means for the three clusters are:')\n",
    "\n",
    "print(kmeans.cluster_centers_)\n",
    "\n",
    "print('Using the clustering model to predict clusters now.')\n",
    "for index, row in df.iterrows():\n",
    "    if kmeans.predict( [row.to_list()] ).astype(str) == '0':\n",
    "        clust1.append(row.to_list())\n",
    "    elif kmeans.predict( [row.to_list()] ).astype(str) == '1':\n",
    "        clust2.append(row.to_list())\n",
    "    elif kmeans.predict( [row.to_list()] ).astype(str) == '2':\n",
    "        clust3.append(row.to_list())\n",
    "\n",
    "textfile = open(\"sklearnOut.txt\", 'w')\n",
    "textfile.write(\"Cluster 1: \" + str(len(clust1)) + \" values\\n\")\n",
    "for row in clust1:\n",
    "    textfile.write(str(row) + '\\n')\n",
    "textfile.write(\"Cluster 2: \" + str(len(clust2)) + \" values\\n\")\n",
    "for row in clust2:\n",
    "    textfile.write(str(row) + '\\n')\n",
    "textfile.write(\"Cluster 3: \" + str(len(clust3)) + \" values\\n\")\n",
    "for row in clust3:\n",
    "    textfile.write(str(row) + '\\n')\n",
    "textfile.close()"
   ]
  },
  {
   "cell_type": "code",
   "execution_count": null,
   "id": "97274917",
   "metadata": {},
   "outputs": [],
   "source": []
  }
 ],
 "metadata": {
  "kernelspec": {
   "display_name": "Python 3 (ipykernel)",
   "language": "python",
   "name": "python3"
  },
  "language_info": {
   "codemirror_mode": {
    "name": "ipython",
    "version": 3
   },
   "file_extension": ".py",
   "mimetype": "text/x-python",
   "name": "python",
   "nbconvert_exporter": "python",
   "pygments_lexer": "ipython3",
   "version": "3.7.6"
  }
 },
 "nbformat": 4,
 "nbformat_minor": 5
}
