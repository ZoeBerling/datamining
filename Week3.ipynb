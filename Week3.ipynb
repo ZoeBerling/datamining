{
 "cells": [
  {
   "cell_type": "code",
   "execution_count": 43,
   "metadata": {},
   "outputs": [
    {
     "name": "stdout",
     "output_type": "stream",
     "text": [
      "5552.050000000002\n",
      "[[ 5776.8   5581.44 14933.71  5738.21  5969.57  4111.61  5465.97  4023.76\n",
      "   4469.32]\n",
      " [ 5755.    4249.45 12120.91  5246.07  6663.01  5693.02  4506.84  4318.\n",
      "   4228.15]\n",
      " [ 5990.7   5879.52 11234.86  5475.63  5967.95  5208.36  5196.93  4587.51\n",
      "   3792.13]\n",
      " [ 5552.05  5153.75 13648.87  4603.69  6397.47  4510.62  5263.11  3378.07\n",
      "   4793.69]\n",
      " [ 5604.08  4877.53 14937.02  5562.12  6613.21  4651.46  4033.96  4543.31\n",
      "   6479.56]\n",
      " [ 7431.5   5186.66 11734.85  5604.53  7305.38  6891.07  8412.08  5549.34\n",
      "   7358.59]\n",
      " [ 9298.15  9185.9  26373.94  9158.76  8929.46  6669.08 10639.3   7281.7\n",
      "  11554.44]\n",
      " [ 7380.76  8610.33 16984.15  7604.7   9716.56 10236.79  8551.69  8919.64\n",
      "   7124.97]\n",
      " [ 6459.03  9906.88 24737.04  7114.66  9759.32  9193.36  8555.43  7370.11\n",
      "  10965.76]\n",
      " [ 5439.17  5151.04 16262.58  4659.51  5066.97  4626.84  4583.27  4312.57\n",
      "   5485.92]\n",
      " [ 5723.03  5435.64 12744.17  5233.9   4671.17  5293.44  6171.38  4383.7\n",
      "   6093.97]\n",
      " [ 5294.67  5240.46 13354.34  5590.29  6102.7   4774.06  5104.6   3678.3\n",
      "   4858.5 ]]\n"
     ]
    }
   ],
   "source": [
    "import numpy as np\n",
    "from csv import reader\n",
    "\n",
    "def getMonth(inDate):\n",
    "\treturn( int( inDate[5:7] ) )\n",
    "\n",
    "def getLocationIndex(inLoc):\n",
    "\tcount = 0\n",
    "\twhile (locations[count] != inLoc) and (count < len(locations)-1):\n",
    "\t\tcount += 1\n",
    "\treturn(count)\n",
    "\n",
    "def getCatIndex(inCat):\n",
    "\tcount = 0\n",
    "\twhile (itemCategories[count] != inCat) and (count < len(itemCategories)-1):\n",
    "\t\tcount += 1\n",
    "\treturn(count)\n",
    "\n",
    "\n",
    "locations = ['SouthGlenn','Tamarac','HighlandsRanch','ColoradoBlvd','WashingtonPark','CherryCreek','GovernorsRanch','UnionStation','CastleRock']\n",
    "itemCategories = ['produce','meat','bakery','freezer','dairy','deli','snack','softdrinks','beer','household']\n",
    "numLocations = len(locations)\n",
    "numItemCategories = len(itemCategories)\n",
    "\n",
    "cube = np.zeros((12, numLocations, numItemCategories))\n",
    "cube2 = np.zeros((12, numLocations, numItemCategories))\n",
    "\n",
    "cube_tuple = np.zeros((12, numLocations, numItemCategories), dtype=[('x', 'int'), ('y', 'float')])\n",
    "\n",
    "price = 0\n",
    "with open('ds_ex3_csv.txt', 'r') as read_obj:\n",
    "    csv_reader = reader(read_obj)\n",
    "    for row in csv_reader:\n",
    "        # row = row[0].split(\",\")\n",
    "        # print(row)\n",
    "        dateIndex = getMonth(row[3])-1\n",
    "        locIndex = getLocationIndex(row[4])\n",
    "        catIndex = getCatIndex(row[5])\n",
    "        cube2[dateIndex][locIndex][catIndex] += int(row[1])\n",
    "        cube[dateIndex][locIndex][catIndex] += float(row[2])\n",
    "        \n",
    "        cube_tuple[dateIndex][locIndex][catIndex][0] += int(row[1])\n",
    "        cube_tuple[dateIndex][locIndex][catIndex][1] += float(row[2])\n",
    "        \n",
    "\n",
    "# roll-up down price\n",
    "sum_category_location = print(np.sum(cube, axis = 0))\n",
    "sum_month_loc = print(np.transpose(np.sum(np.transpose(cube), axis = 0)))\n",
    "sum_month_cat = print(np.sum(cube, axis = 1))\n",
    "\n",
    "# roll-up number of items\n",
    "num_sum_category_location = print(np.sum(cube2, axis = 0)[0])\n",
    "num_sum_month_loc = print(np.transpose(np.sum(np.transpose(cube2), axis = 0)))\n",
    "num_sum_month_cat = print(np.sum(cube2, axis = 1))\n",
    "\n",
    "             \n",
    "             \n"
   ]
  },
  {
   "cell_type": "code",
   "execution_count": null,
   "metadata": {},
   "outputs": [],
   "source": []
  }
 ],
 "metadata": {
  "kernelspec": {
   "display_name": "Python 3",
   "language": "python",
   "name": "python3"
  },
  "language_info": {
   "codemirror_mode": {
    "name": "ipython",
    "version": 3
   },
   "file_extension": ".py",
   "mimetype": "text/x-python",
   "name": "python",
   "nbconvert_exporter": "python",
   "pygments_lexer": "ipython3",
   "version": "3.7.6"
  }
 },
 "nbformat": 4,
 "nbformat_minor": 4
}
